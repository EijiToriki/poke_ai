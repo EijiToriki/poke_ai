{
 "cells": [
  {
   "cell_type": "markdown",
   "metadata": {},
   "source": [
    "## データ準備と前処理"
   ]
  },
  {
   "cell_type": "code",
   "execution_count": 3,
   "metadata": {},
   "outputs": [],
   "source": [
    "import pandas as pd\n",
    "from sklearn import datasets\n",
    "from sklearn.model_selection import train_test_split\n",
    "from sklearn.preprocessing import StandardScaler\n",
    "import torch\n",
    "\n",
    "# データ読み込み\n",
    "iris = datasets.load_iris()\n",
    "data = iris['data']\n",
    "target = iris['target']"
   ]
  },
  {
   "cell_type": "code",
   "execution_count": 4,
   "metadata": {},
   "outputs": [
    {
     "data": {
      "text/plain": [
       "numpy.ndarray"
      ]
     },
     "execution_count": 4,
     "metadata": {},
     "output_type": "execute_result"
    }
   ],
   "source": [
    "type(data)"
   ]
  },
  {
   "cell_type": "markdown",
   "metadata": {},
   "source": [
    "## CSVを読み込んでポケモン名に対応する辞書を作る"
   ]
  },
  {
   "cell_type": "code",
   "execution_count": 6,
   "metadata": {},
   "outputs": [
    {
     "data": {
      "text/plain": [
       "defaultdict(int,\n",
       "            {'トドロクツキ': 1,\n",
       "             'ラティアス': 2,\n",
       "             'ハバタクカミ': 26,\n",
       "             'ランドロス（霊獣）': 4,\n",
       "             'ウーラオス（連撃）': 30,\n",
       "             'エンテイ': 6,\n",
       "             'カイリュー': 27,\n",
       "             'オーガポン（炎）': 21,\n",
       "             'サーフゴー': 28,\n",
       "             'ガチグマ': 22,\n",
       "             'イーユイ': 14,\n",
       "             'タケルライコ': 16,\n",
       "             'ハッサム': 18,\n",
       "             'オオニューラ': 19,\n",
       "             'ヘイラッシャ': 23,\n",
       "             'ディンルー': 25,\n",
       "             'オーガポン（草）': 29})"
      ]
     },
     "execution_count": 6,
     "metadata": {},
     "output_type": "execute_result"
    }
   ],
   "source": [
    "import csv\n",
    "from collections import defaultdict\n",
    "\n",
    "poke_id_dict = defaultdict(int)\n",
    "file_name = \"./sample.csv\"\n",
    "id = 1\n",
    "\n",
    "with open(file_name, mode='r') as csv_file:\n",
    "  csv_reader = csv.reader(csv_file)\n",
    "  next(csv_reader)\n",
    "\n",
    "  for row in csv_reader:\n",
    "    for pokemon in row[:-1]:\n",
    "      poke_id_dict[pokemon] = id\n",
    "      id += 1\n",
    "\n",
    "poke_id_dict"
   ]
  }
 ],
 "metadata": {
  "kernelspec": {
   "display_name": "Python 3",
   "language": "python",
   "name": "python3"
  },
  "language_info": {
   "codemirror_mode": {
    "name": "ipython",
    "version": 3
   },
   "file_extension": ".py",
   "mimetype": "text/x-python",
   "name": "python",
   "nbconvert_exporter": "python",
   "pygments_lexer": "ipython3",
   "version": "3.10.6"
  }
 },
 "nbformat": 4,
 "nbformat_minor": 2
}
