{
 "cells": [
  {
   "cell_type": "markdown",
   "metadata": {},
   "source": [
    "## データ準備と前処理"
   ]
  },
  {
   "cell_type": "markdown",
   "metadata": {},
   "source": [
    "### 必要ライブラリのインポート"
   ]
  },
  {
   "cell_type": "code",
   "execution_count": 116,
   "metadata": {},
   "outputs": [],
   "source": [
    "import csv\n",
    "import numpy as np\n",
    "from collections import defaultdict\n",
    "\n",
    "from sklearn.model_selection import train_test_split\n",
    "from sklearn.preprocessing import StandardScaler\n",
    "import torch\n",
    "from torch.utils.data import TensorDataset\n",
    "from torch.utils.data import DataLoader\n",
    "import torch.nn as nn\n",
    "import torch.nn.functional as F\n",
    "import torch.optim as optim"
   ]
  },
  {
   "cell_type": "markdown",
   "metadata": {},
   "source": [
    "### グローバル変数の定義"
   ]
  },
  {
   "cell_type": "code",
   "execution_count": 117,
   "metadata": {},
   "outputs": [],
   "source": [
    "poke_id_dict = defaultdict(int)   # ポケモン名に対するIDを格納する辞書\n",
    "party_list = []                   # 相手パーティのリスト（numpy配列 party_np に変換する）\n",
    "first_poke = []                   # 初手のポケモン（numpy配列 first_np に変換する）"
   ]
  },
  {
   "cell_type": "markdown",
   "metadata": {},
   "source": [
    "## CSVを読み込んでポケモン名に対応する辞書を作る"
   ]
  },
  {
   "cell_type": "code",
   "execution_count": 118,
   "metadata": {},
   "outputs": [],
   "source": [
    "file_name = \"./sample.csv\"\n",
    "id = 1\n",
    "\n",
    "with open(file_name, mode='r') as csv_file:\n",
    "  csv_reader = csv.reader(csv_file)\n",
    "  next(csv_reader)\n",
    "\n",
    "  for row in csv_reader:\n",
    "    for pokemon in row[:-1]:\n",
    "      if pokemon not in poke_id_dict.keys():\n",
    "        poke_id_dict[pokemon] = id\n",
    "        id += 1"
   ]
  },
  {
   "cell_type": "markdown",
   "metadata": {},
   "source": [
    "## CSVから相手パーティのポケモンをIDに変換したnumpy配列を生成"
   ]
  },
  {
   "cell_type": "code",
   "execution_count": 119,
   "metadata": {},
   "outputs": [],
   "source": [
    "file_name = \"./sample.csv\"\n",
    "with open(file_name, mode='r') as csv_file:\n",
    "  csv_reader = csv.reader(csv_file)\n",
    "  next(csv_reader)\n",
    "\n",
    "  for row in csv_reader:\n",
    "    one_party = []\n",
    "    for pokemon in row[:-1]:\n",
    "      one_party.append(poke_id_dict[pokemon])\n",
    "    party_list.append(one_party)\n",
    "    first_poke.append(poke_id_dict[row[-1]])\n",
    "\n",
    "party_np = np.array(party_list)\n",
    "first_np = np.array(first_poke)"
   ]
  },
  {
   "cell_type": "markdown",
   "metadata": {},
   "source": [
    "### 学習データと検証データに分割"
   ]
  },
  {
   "cell_type": "code",
   "execution_count": 120,
   "metadata": {},
   "outputs": [
    {
     "data": {
      "text/plain": [
       "array([[ 7,  8,  3,  9, 10,  5],\n",
       "       [16,  3,  7,  9, 17,  5],\n",
       "       [ 1,  2,  3,  4,  5,  6],\n",
       "       [14,  7,  8, 10, 15, 16]])"
      ]
     },
     "execution_count": 120,
     "metadata": {},
     "output_type": "execute_result"
    }
   ],
   "source": [
    "x_train, x_valid, y_train, y_valid = train_test_split(party_np, first_np, shuffle=True, test_size=0.2)"
   ]
  },
  {
   "cell_type": "markdown",
   "metadata": {},
   "source": [
    "### 特徴量の標準化"
   ]
  },
  {
   "cell_type": "code",
   "execution_count": 98,
   "metadata": {},
   "outputs": [],
   "source": [
    "scaler = StandardScaler()\n",
    "scaler.fit(x_train)\n",
    "\n",
    "\n",
    "x_train = scaler.transform(x_train)\n",
    "x_valid = scaler.transform(x_valid)"
   ]
  },
  {
   "cell_type": "markdown",
   "metadata": {},
   "source": [
    "### Tensor型に変換"
   ]
  },
  {
   "cell_type": "code",
   "execution_count": 99,
   "metadata": {},
   "outputs": [
    {
     "name": "stdout",
     "output_type": "stream",
     "text": [
      "x_train :  torch.Size([4, 6])\n",
      "y_train :  torch.Size([4])\n",
      "x_valid :  torch.Size([1, 6])\n",
      "y_valid :  torch.Size([1])\n"
     ]
    }
   ],
   "source": [
    "x_train = torch.from_numpy(x_train).float()\n",
    "y_train = torch.from_numpy(y_train).long()\n",
    "x_valid = torch.from_numpy(x_valid).float()\n",
    "y_valid = torch.from_numpy(y_valid).long()\n",
    "\n",
    "print('x_train : ', x_train.shape)\n",
    "print('y_train : ', y_train.shape)\n",
    "print('x_valid : ', x_valid.shape)\n",
    "print('y_valid : ', y_valid.shape)"
   ]
  },
  {
   "cell_type": "markdown",
   "metadata": {},
   "source": [
    "## Datasetの作成"
   ]
  },
  {
   "cell_type": "code",
   "execution_count": 100,
   "metadata": {},
   "outputs": [],
   "source": [
    "train_dataset = TensorDataset(x_train, y_train)\n",
    "valid_dataset = TensorDataset(x_valid, y_valid)"
   ]
  },
  {
   "cell_type": "code",
   "execution_count": 101,
   "metadata": {},
   "outputs": [
    {
     "name": "stdout",
     "output_type": "stream",
     "text": [
      "torch.Size([1, 6])\n",
      "torch.Size([1])\n"
     ]
    }
   ],
   "source": [
    "batch_size = 2\n",
    "train_dataloader = DataLoader(train_dataset, batch_size=batch_size, shuffle=True)\n",
    "valid_dataloader = DataLoader(valid_dataset, batch_size=batch_size, shuffle=False)\n",
    "\n",
    "# 動作確認\n",
    "# イテレータに変換\n",
    "batch_iterator = iter(valid_dataloader)\n",
    "# 1番目の要素を取り出す\n",
    "inputs, labels = next(batch_iterator)\n",
    "print(inputs.size())\n",
    "print(labels.size())"
   ]
  },
  {
   "cell_type": "markdown",
   "metadata": {},
   "source": [
    "## ネットワークの定義"
   ]
  },
  {
   "cell_type": "code",
   "execution_count": 102,
   "metadata": {},
   "outputs": [
    {
     "name": "stdout",
     "output_type": "stream",
     "text": [
      "Net(\n",
      "  (fc1): Linear(in_features=6, out_features=50, bias=True)\n",
      "  (fc2): Linear(in_features=50, out_features=17, bias=True)\n",
      ")\n"
     ]
    }
   ],
   "source": [
    "poke_num = len(poke_id_dict)    # 分類したいポケモンの数\n",
    "\n",
    "class Net(nn.Module):    \n",
    "    def __init__(self):\n",
    "        super(Net, self).__init__()\n",
    "        self.fc1 = nn.Linear(6, 50)\n",
    "        self.fc2 = nn.Linear(50, poke_num)\n",
    "    \n",
    "    def forward(self, x):\n",
    "        x = self.fc1(x)\n",
    "        x = F.relu(x)\n",
    "        x = self.fc2(x)\n",
    "        x = F.softmax(x, dim=1)\n",
    "        return x\n",
    "\n",
    "net = Net()\n",
    "print(net)"
   ]
  },
  {
   "cell_type": "markdown",
   "metadata": {},
   "source": [
    "### 損失関数と最適化手法の定義"
   ]
  },
  {
   "cell_type": "code",
   "execution_count": 103,
   "metadata": {},
   "outputs": [],
   "source": [
    "criterion = nn.CrossEntropyLoss()\n",
    "optimizer = optim.SGD(net.parameters(), lr=0.01)"
   ]
  },
  {
   "cell_type": "markdown",
   "metadata": {},
   "source": [
    "## 学習"
   ]
  },
  {
   "cell_type": "code",
   "execution_count": 80,
   "metadata": {},
   "outputs": [
    {
     "name": "stdout",
     "output_type": "stream",
     "text": [
      "tensor([[ 0.2410,  0.7770,  1.1767,  0.9045,  1.3106,  0.8642],\n",
      "        [ 0.5623, -1.5541, -0.7845, -1.5076,  0.6116, -1.5758]])\n",
      "tensor([30, 27])\n",
      "tensor([[ 0.8835, -0.1943,  0.7845,  0.9045, -1.1358,  0.8642],\n",
      "        [-1.6868,  0.9713, -1.1767, -0.3015, -0.7863, -0.1525]])\n",
      "tensor([30, 22])\n"
     ]
    }
   ],
   "source": [
    "train_dataloader\n",
    "\n",
    "for inputs, labels in train_dataloader:\n",
    "  print(inputs)\n",
    "  print(labels)\n"
   ]
  },
  {
   "cell_type": "code",
   "execution_count": 130,
   "metadata": {},
   "outputs": [
    {
     "name": "stdout",
     "output_type": "stream",
     "text": [
      "Epoch 1/10\n",
      "-------------\n",
      "tensor([14,  5])\n",
      "tensor([14,  0])\n",
      "train Loss: 2.8415 Acc: 0.0000\n",
      "tensor([0])\n",
      "val Loss: 2.8462 Acc: 0.0000\n",
      "Epoch 2/10\n",
      "-------------\n",
      "tensor([ 5, 14])\n",
      "tensor([14,  0])\n",
      "train Loss: 2.8413 Acc: 0.0000\n",
      "tensor([0])\n",
      "val Loss: 2.8461 Acc: 0.0000\n",
      "Epoch 3/10\n",
      "-------------\n",
      "tensor([0, 5])\n",
      "tensor([14, 14])\n",
      "train Loss: 2.8412 Acc: 0.0000\n",
      "tensor([0])\n",
      "val Loss: 2.8459 Acc: 0.0000\n",
      "Epoch 4/10\n",
      "-------------\n",
      "tensor([ 0, 14])\n",
      "tensor([14,  5])\n",
      "train Loss: 2.8410 Acc: 0.0000\n",
      "tensor([0])\n",
      "val Loss: 2.8458 Acc: 0.0000\n",
      "Epoch 5/10\n",
      "-------------\n",
      "tensor([14, 14])\n",
      "tensor([0, 5])\n",
      "train Loss: 2.8408 Acc: 0.0000\n",
      "tensor([0])\n",
      "val Loss: 2.8456 Acc: 0.0000\n",
      "Epoch 6/10\n",
      "-------------\n",
      "tensor([14,  0])\n",
      "tensor([14,  5])\n",
      "train Loss: 2.8406 Acc: 0.0000\n",
      "tensor([0])\n",
      "val Loss: 2.8455 Acc: 0.0000\n",
      "Epoch 7/10\n",
      "-------------\n",
      "tensor([14,  5])\n",
      "tensor([ 0, 14])\n",
      "train Loss: 2.8404 Acc: 0.0000\n",
      "tensor([0])\n",
      "val Loss: 2.8453 Acc: 0.0000\n",
      "Epoch 8/10\n",
      "-------------\n",
      "tensor([14,  0])\n",
      "tensor([14,  5])\n",
      "train Loss: 2.8402 Acc: 0.0000\n",
      "tensor([0])\n",
      "val Loss: 2.8452 Acc: 0.0000\n",
      "Epoch 9/10\n",
      "-------------\n",
      "tensor([5, 0])\n",
      "tensor([14, 14])\n",
      "train Loss: 2.8400 Acc: 0.0000\n",
      "tensor([0])\n",
      "val Loss: 2.8450 Acc: 0.0000\n",
      "Epoch 10/10\n",
      "-------------\n",
      "tensor([14, 14])\n",
      "tensor([5, 0])\n",
      "train Loss: 2.8398 Acc: 0.0000\n",
      "tensor([0])\n",
      "val Loss: 2.8449 Acc: 0.0000\n"
     ]
    }
   ],
   "source": [
    "# エポック数\n",
    "num_epochs = 10\n",
    "\n",
    "# 学習時と検証時で分けるためディクショナリを用意\n",
    "dataloaders_dict = {\n",
    "    'train': train_dataloader,\n",
    "    'val': valid_dataloader\n",
    "}\n",
    "\n",
    "for epoch in range(num_epochs):\n",
    "    print('Epoch {}/{}'.format(epoch+1, num_epochs))\n",
    "    print('-------------')\n",
    "    \n",
    "    for phase in ['train', 'val']:\n",
    "        \n",
    "        if phase == 'train':\n",
    "            # モデルを訓練モードに設定\n",
    "            net.train()\n",
    "        else:\n",
    "            # モデルを推論モードに設定\n",
    "            net.eval()\n",
    "        \n",
    "        # 損失和\n",
    "        epoch_loss = 0.0\n",
    "        # 正解数\n",
    "        epoch_corrects = 0\n",
    "        \n",
    "        # DataLoaderからデータをバッチごとに取り出す\n",
    "        for inputs, labels in dataloaders_dict[phase]:\n",
    "            \n",
    "            # optimizerの初期化\n",
    "            optimizer.zero_grad()\n",
    "            \n",
    "            # 学習時のみ勾配を計算させる設定にする\n",
    "            with torch.set_grad_enabled(phase == 'train'):\n",
    "                outputs = net(inputs)\n",
    "                \n",
    "                # 損失を計算\n",
    "                loss = criterion(outputs, labels)\n",
    "                \n",
    "                # ラベルを予測\n",
    "                _, preds = torch.max(outputs, 1)\n",
    "                \n",
    "                # 訓練時はバックプロパゲーション\n",
    "                if phase == 'train':\n",
    "                    # 逆伝搬の計算\n",
    "                    loss.backward()\n",
    "                    # パラメータの更新\n",
    "                    optimizer.step()\n",
    "                \n",
    "                # イテレーション結果の計算\n",
    "                # lossの合計を更新\n",
    "                # PyTorchの仕様上各バッチ内での平均のlossが計算される。\n",
    "                # データ数を掛けることで平均から合計に変換をしている。\n",
    "                # 損失和は「全データの損失/データ数」で計算されるため、\n",
    "                # 平均のままだと損失和を求めることができないため。\n",
    "                epoch_loss += loss.item() * inputs.size(0)\n",
    "                \n",
    "                # 正解数の合計を更新\n",
    "                epoch_corrects += torch.sum(preds == labels.data)\n",
    "\n",
    "        # epochごとのlossと正解率を表示\n",
    "        epoch_loss = epoch_loss / len(dataloaders_dict[phase].dataset)\n",
    "        epoch_acc = epoch_corrects.double() / len(dataloaders_dict[phase].dataset)\n",
    "\n",
    "        print('{} Loss: {:.4f} Acc: {:.4f}'.format(phase, epoch_loss, epoch_acc))"
   ]
  },
  {
   "cell_type": "markdown",
   "metadata": {},
   "source": [
    "### 予測実行"
   ]
  },
  {
   "cell_type": "code",
   "execution_count": 146,
   "metadata": {},
   "outputs": [
    {
     "name": "stdout",
     "output_type": "stream",
     "text": [
      "トドロクツキ\n"
     ]
    }
   ],
   "source": [
    "poke1 = \"ハバタクカミ\"\n",
    "poke2 = \"ウーラオス（連撃）\"\n",
    "poke3 = \"ハバタクカミ\"\n",
    "poke4 = \"タケルライコ\"\n",
    "poke5 = \"カイリュー\"\n",
    "poke6 = \"サーフゴー\"\n",
    "party_list = [poke1, poke2, poke3, poke4, poke5, poke6]\n",
    "party_id = []\n",
    "for poke in party_list:\n",
    "  party_id.append(poke_id_dict[poke])\n",
    "\n",
    "\n",
    "\n",
    "party_id = scaler.transform(np.array([party_id]))\n",
    "party_id = torch.from_numpy(party_id).float()\n",
    "pred = net(party_id)\n",
    "_, pred = torch.max(pred, 1)\n",
    "pred = pred.item()\n",
    "\n",
    "for poke, id in poke_id_dict.items():\n",
    "  if id == pred:\n",
    "    print(poke)\n",
    "    break\n"
   ]
  }
 ],
 "metadata": {
  "kernelspec": {
   "display_name": "Python 3",
   "language": "python",
   "name": "python3"
  },
  "language_info": {
   "codemirror_mode": {
    "name": "ipython",
    "version": 3
   },
   "file_extension": ".py",
   "mimetype": "text/x-python",
   "name": "python",
   "nbconvert_exporter": "python",
   "pygments_lexer": "ipython3",
   "version": "3.10.6"
  }
 },
 "nbformat": 4,
 "nbformat_minor": 2
}
